{
  "cells": [
    {
      "cell_type": "markdown",
      "metadata": {
        "id": "view-in-github",
        "colab_type": "text"
      },
      "source": [
        "<a href=\"https://colab.research.google.com/github/disha-ramchandani/P2P-loans/blob/main/random_forest_fin.ipynb\" target=\"_parent\"><img src=\"https://colab.research.google.com/assets/colab-badge.svg\" alt=\"Open In Colab\"/></a>"
      ]
    },
    {
      "cell_type": "code",
      "source": [
        "import warnings\n",
        "warnings.filterwarnings('ignore')"
      ],
      "metadata": {
        "id": "g9NU0ddJxAk8"
      },
      "execution_count": null,
      "outputs": []
    },
    {
      "cell_type": "code",
      "source": [
        "import numpy as np\n",
        "import pandas as pd\n",
        "from pathlib import Path\n",
        "from collections import Counter"
      ],
      "metadata": {
        "id": "DzDUOB2sxaBj"
      },
      "execution_count": null,
      "outputs": []
    },
    {
      "cell_type": "markdown",
      "source": [],
      "metadata": {
        "id": "2QRfr64TTGry"
      }
    },
    {
      "cell_type": "code",
      "source": [
        "from sklearn.metrics import balanced_accuracy_score\n",
        "from sklearn.metrics import confusion_matrix\n",
        "from imblearn.metrics import classification_report_imbalanced"
      ],
      "metadata": {
        "id": "Gg0XNqV8xcoK"
      },
      "execution_count": null,
      "outputs": []
    },
    {
      "cell_type": "code",
      "source": [
        "df=pd.read_csv('Final_project_dataset')\n",
        "df.head()"
      ],
      "metadata": {
        "id": "DuYDzZsGxuHx",
        "outputId": "ce4b4f44-9d93-439b-e858-93f581b1c3f1",
        "colab": {
          "base_uri": "https://localhost:8080/",
          "height": 287
        }
      },
      "execution_count": null,
      "outputs": [
        {
          "output_type": "execute_result",
          "data": {
            "text/plain": [
              "   Unnamed: 0  person_age  person_income person_home_ownership  \\\n",
              "0           0        22.0        59000.0                  RENT   \n",
              "1           1        21.0         9600.0                   OWN   \n",
              "2           2        25.0         9600.0              MORTGAGE   \n",
              "3           3        23.0        65500.0                  RENT   \n",
              "4           4        24.0        54400.0                  RENT   \n",
              "\n",
              "   person_emp_length loan_intent loan_grade  loan_amnt  loan_int_rate  \\\n",
              "0               14.5    PERSONAL          D      35000          16.02   \n",
              "1                5.0   EDUCATION          B       1000          11.14   \n",
              "2                1.0     MEDICAL          C       5500          12.87   \n",
              "3                4.0     MEDICAL          C      35000          15.23   \n",
              "4                8.0     MEDICAL          C      35000          14.27   \n",
              "\n",
              "   loan_percent_income cb_person_default_on_file  cb_person_cred_hist_length  \n",
              "0                 0.59                         Y                         3.0  \n",
              "1                 0.10                         N                         2.0  \n",
              "2                 0.57                         N                         3.0  \n",
              "3                 0.53                         N                         2.0  \n",
              "4                 0.55                         Y                         4.0  "
            ],
            "text/html": [
              "\n",
              "  <div id=\"df-ac9b1a71-0f8d-46bc-aa32-ef21abbba672\">\n",
              "    <div class=\"colab-df-container\">\n",
              "      <div>\n",
              "<style scoped>\n",
              "    .dataframe tbody tr th:only-of-type {\n",
              "        vertical-align: middle;\n",
              "    }\n",
              "\n",
              "    .dataframe tbody tr th {\n",
              "        vertical-align: top;\n",
              "    }\n",
              "\n",
              "    .dataframe thead th {\n",
              "        text-align: right;\n",
              "    }\n",
              "</style>\n",
              "<table border=\"1\" class=\"dataframe\">\n",
              "  <thead>\n",
              "    <tr style=\"text-align: right;\">\n",
              "      <th></th>\n",
              "      <th>Unnamed: 0</th>\n",
              "      <th>person_age</th>\n",
              "      <th>person_income</th>\n",
              "      <th>person_home_ownership</th>\n",
              "      <th>person_emp_length</th>\n",
              "      <th>loan_intent</th>\n",
              "      <th>loan_grade</th>\n",
              "      <th>loan_amnt</th>\n",
              "      <th>loan_int_rate</th>\n",
              "      <th>loan_percent_income</th>\n",
              "      <th>cb_person_default_on_file</th>\n",
              "      <th>cb_person_cred_hist_length</th>\n",
              "    </tr>\n",
              "  </thead>\n",
              "  <tbody>\n",
              "    <tr>\n",
              "      <th>0</th>\n",
              "      <td>0</td>\n",
              "      <td>22.0</td>\n",
              "      <td>59000.0</td>\n",
              "      <td>RENT</td>\n",
              "      <td>14.5</td>\n",
              "      <td>PERSONAL</td>\n",
              "      <td>D</td>\n",
              "      <td>35000</td>\n",
              "      <td>16.02</td>\n",
              "      <td>0.59</td>\n",
              "      <td>Y</td>\n",
              "      <td>3.0</td>\n",
              "    </tr>\n",
              "    <tr>\n",
              "      <th>1</th>\n",
              "      <td>1</td>\n",
              "      <td>21.0</td>\n",
              "      <td>9600.0</td>\n",
              "      <td>OWN</td>\n",
              "      <td>5.0</td>\n",
              "      <td>EDUCATION</td>\n",
              "      <td>B</td>\n",
              "      <td>1000</td>\n",
              "      <td>11.14</td>\n",
              "      <td>0.10</td>\n",
              "      <td>N</td>\n",
              "      <td>2.0</td>\n",
              "    </tr>\n",
              "    <tr>\n",
              "      <th>2</th>\n",
              "      <td>2</td>\n",
              "      <td>25.0</td>\n",
              "      <td>9600.0</td>\n",
              "      <td>MORTGAGE</td>\n",
              "      <td>1.0</td>\n",
              "      <td>MEDICAL</td>\n",
              "      <td>C</td>\n",
              "      <td>5500</td>\n",
              "      <td>12.87</td>\n",
              "      <td>0.57</td>\n",
              "      <td>N</td>\n",
              "      <td>3.0</td>\n",
              "    </tr>\n",
              "    <tr>\n",
              "      <th>3</th>\n",
              "      <td>3</td>\n",
              "      <td>23.0</td>\n",
              "      <td>65500.0</td>\n",
              "      <td>RENT</td>\n",
              "      <td>4.0</td>\n",
              "      <td>MEDICAL</td>\n",
              "      <td>C</td>\n",
              "      <td>35000</td>\n",
              "      <td>15.23</td>\n",
              "      <td>0.53</td>\n",
              "      <td>N</td>\n",
              "      <td>2.0</td>\n",
              "    </tr>\n",
              "    <tr>\n",
              "      <th>4</th>\n",
              "      <td>4</td>\n",
              "      <td>24.0</td>\n",
              "      <td>54400.0</td>\n",
              "      <td>RENT</td>\n",
              "      <td>8.0</td>\n",
              "      <td>MEDICAL</td>\n",
              "      <td>C</td>\n",
              "      <td>35000</td>\n",
              "      <td>14.27</td>\n",
              "      <td>0.55</td>\n",
              "      <td>Y</td>\n",
              "      <td>4.0</td>\n",
              "    </tr>\n",
              "  </tbody>\n",
              "</table>\n",
              "</div>\n",
              "      <button class=\"colab-df-convert\" onclick=\"convertToInteractive('df-ac9b1a71-0f8d-46bc-aa32-ef21abbba672')\"\n",
              "              title=\"Convert this dataframe to an interactive table.\"\n",
              "              style=\"display:none;\">\n",
              "        \n",
              "  <svg xmlns=\"http://www.w3.org/2000/svg\" height=\"24px\"viewBox=\"0 0 24 24\"\n",
              "       width=\"24px\">\n",
              "    <path d=\"M0 0h24v24H0V0z\" fill=\"none\"/>\n",
              "    <path d=\"M18.56 5.44l.94 2.06.94-2.06 2.06-.94-2.06-.94-.94-2.06-.94 2.06-2.06.94zm-11 1L8.5 8.5l.94-2.06 2.06-.94-2.06-.94L8.5 2.5l-.94 2.06-2.06.94zm10 10l.94 2.06.94-2.06 2.06-.94-2.06-.94-.94-2.06-.94 2.06-2.06.94z\"/><path d=\"M17.41 7.96l-1.37-1.37c-.4-.4-.92-.59-1.43-.59-.52 0-1.04.2-1.43.59L10.3 9.45l-7.72 7.72c-.78.78-.78 2.05 0 2.83L4 21.41c.39.39.9.59 1.41.59.51 0 1.02-.2 1.41-.59l7.78-7.78 2.81-2.81c.8-.78.8-2.07 0-2.86zM5.41 20L4 18.59l7.72-7.72 1.47 1.35L5.41 20z\"/>\n",
              "  </svg>\n",
              "      </button>\n",
              "      \n",
              "  <style>\n",
              "    .colab-df-container {\n",
              "      display:flex;\n",
              "      flex-wrap:wrap;\n",
              "      gap: 12px;\n",
              "    }\n",
              "\n",
              "    .colab-df-convert {\n",
              "      background-color: #E8F0FE;\n",
              "      border: none;\n",
              "      border-radius: 50%;\n",
              "      cursor: pointer;\n",
              "      display: none;\n",
              "      fill: #1967D2;\n",
              "      height: 32px;\n",
              "      padding: 0 0 0 0;\n",
              "      width: 32px;\n",
              "    }\n",
              "\n",
              "    .colab-df-convert:hover {\n",
              "      background-color: #E2EBFA;\n",
              "      box-shadow: 0px 1px 2px rgba(60, 64, 67, 0.3), 0px 1px 3px 1px rgba(60, 64, 67, 0.15);\n",
              "      fill: #174EA6;\n",
              "    }\n",
              "\n",
              "    [theme=dark] .colab-df-convert {\n",
              "      background-color: #3B4455;\n",
              "      fill: #D2E3FC;\n",
              "    }\n",
              "\n",
              "    [theme=dark] .colab-df-convert:hover {\n",
              "      background-color: #434B5C;\n",
              "      box-shadow: 0px 1px 3px 1px rgba(0, 0, 0, 0.15);\n",
              "      filter: drop-shadow(0px 1px 2px rgba(0, 0, 0, 0.3));\n",
              "      fill: #FFFFFF;\n",
              "    }\n",
              "  </style>\n",
              "\n",
              "      <script>\n",
              "        const buttonEl =\n",
              "          document.querySelector('#df-ac9b1a71-0f8d-46bc-aa32-ef21abbba672 button.colab-df-convert');\n",
              "        buttonEl.style.display =\n",
              "          google.colab.kernel.accessAllowed ? 'block' : 'none';\n",
              "\n",
              "        async function convertToInteractive(key) {\n",
              "          const element = document.querySelector('#df-ac9b1a71-0f8d-46bc-aa32-ef21abbba672');\n",
              "          const dataTable =\n",
              "            await google.colab.kernel.invokeFunction('convertToInteractive',\n",
              "                                                     [key], {});\n",
              "          if (!dataTable) return;\n",
              "\n",
              "          const docLinkHtml = 'Like what you see? Visit the ' +\n",
              "            '<a target=\"_blank\" href=https://colab.research.google.com/notebooks/data_table.ipynb>data table notebook</a>'\n",
              "            + ' to learn more about interactive tables.';\n",
              "          element.innerHTML = '';\n",
              "          dataTable['output_type'] = 'display_data';\n",
              "          await google.colab.output.renderOutput(dataTable, element);\n",
              "          const docLink = document.createElement('div');\n",
              "          docLink.innerHTML = docLinkHtml;\n",
              "          element.appendChild(docLink);\n",
              "        }\n",
              "      </script>\n",
              "    </div>\n",
              "  </div>\n",
              "  "
            ]
          },
          "metadata": {},
          "execution_count": 31
        }
      ]
    },
    {
      "cell_type": "code",
      "source": [
        "inputs=df.drop(['loan_grade'],axis=1)"
      ],
      "metadata": {
        "id": "RdTIykSLx4Np"
      },
      "execution_count": null,
      "outputs": []
    },
    {
      "cell_type": "code",
      "source": [
        "target=df['loan_grade']"
      ],
      "metadata": {
        "id": "jYvJTcDIyAyB"
      },
      "execution_count": null,
      "outputs": []
    },
    {
      "cell_type": "code",
      "source": [
        "inputs"
      ],
      "metadata": {
        "id": "qsFgGxp5yE26",
        "outputId": "75f7de9a-0398-4356-fb9d-d5dfc777ce12",
        "colab": {
          "base_uri": "https://localhost:8080/",
          "height": 505
        }
      },
      "execution_count": null,
      "outputs": [
        {
          "output_type": "execute_result",
          "data": {
            "text/plain": [
              "       Unnamed: 0  person_age  person_income person_home_ownership  \\\n",
              "0               0        22.0        59000.0                  RENT   \n",
              "1               1        21.0         9600.0                   OWN   \n",
              "2               2        25.0         9600.0              MORTGAGE   \n",
              "3               3        23.0        65500.0                  RENT   \n",
              "4               4        24.0        54400.0                  RENT   \n",
              "...           ...         ...            ...                   ...   \n",
              "32411       32576        40.5        53000.0              MORTGAGE   \n",
              "32412       32577        40.5       120000.0              MORTGAGE   \n",
              "32413       32578        40.5        76000.0                  RENT   \n",
              "32414       32579        40.5       140232.0              MORTGAGE   \n",
              "32415       32580        40.5        42000.0                  RENT   \n",
              "\n",
              "       person_emp_length      loan_intent  loan_amnt  loan_int_rate  \\\n",
              "0                   14.5         PERSONAL      35000          16.02   \n",
              "1                    5.0        EDUCATION       1000          11.14   \n",
              "2                    1.0          MEDICAL       5500          12.87   \n",
              "3                    4.0          MEDICAL      35000          15.23   \n",
              "4                    8.0          MEDICAL      35000          14.27   \n",
              "...                  ...              ...        ...            ...   \n",
              "32411                1.0         PERSONAL       5800          13.16   \n",
              "32412                4.0         PERSONAL      17625           7.49   \n",
              "32413                3.0  HOMEIMPROVEMENT      35000          10.99   \n",
              "32414                5.0         PERSONAL      15000          11.48   \n",
              "32415                2.0          MEDICAL       6475           9.99   \n",
              "\n",
              "       loan_percent_income cb_person_default_on_file  \\\n",
              "0                     0.59                         Y   \n",
              "1                     0.10                         N   \n",
              "2                     0.57                         N   \n",
              "3                     0.53                         N   \n",
              "4                     0.55                         Y   \n",
              "...                    ...                       ...   \n",
              "32411                 0.11                         N   \n",
              "32412                 0.15                         N   \n",
              "32413                 0.46                         N   \n",
              "32414                 0.10                         N   \n",
              "32415                 0.15                         N   \n",
              "\n",
              "       cb_person_cred_hist_length  \n",
              "0                             3.0  \n",
              "1                             2.0  \n",
              "2                             3.0  \n",
              "3                             2.0  \n",
              "4                             4.0  \n",
              "...                           ...  \n",
              "32411                        15.5  \n",
              "32412                        15.5  \n",
              "32413                        15.5  \n",
              "32414                        15.5  \n",
              "32415                        15.5  \n",
              "\n",
              "[32416 rows x 11 columns]"
            ],
            "text/html": [
              "\n",
              "  <div id=\"df-f49575d6-445b-4a88-bc5d-2f9818751965\">\n",
              "    <div class=\"colab-df-container\">\n",
              "      <div>\n",
              "<style scoped>\n",
              "    .dataframe tbody tr th:only-of-type {\n",
              "        vertical-align: middle;\n",
              "    }\n",
              "\n",
              "    .dataframe tbody tr th {\n",
              "        vertical-align: top;\n",
              "    }\n",
              "\n",
              "    .dataframe thead th {\n",
              "        text-align: right;\n",
              "    }\n",
              "</style>\n",
              "<table border=\"1\" class=\"dataframe\">\n",
              "  <thead>\n",
              "    <tr style=\"text-align: right;\">\n",
              "      <th></th>\n",
              "      <th>Unnamed: 0</th>\n",
              "      <th>person_age</th>\n",
              "      <th>person_income</th>\n",
              "      <th>person_home_ownership</th>\n",
              "      <th>person_emp_length</th>\n",
              "      <th>loan_intent</th>\n",
              "      <th>loan_amnt</th>\n",
              "      <th>loan_int_rate</th>\n",
              "      <th>loan_percent_income</th>\n",
              "      <th>cb_person_default_on_file</th>\n",
              "      <th>cb_person_cred_hist_length</th>\n",
              "    </tr>\n",
              "  </thead>\n",
              "  <tbody>\n",
              "    <tr>\n",
              "      <th>0</th>\n",
              "      <td>0</td>\n",
              "      <td>22.0</td>\n",
              "      <td>59000.0</td>\n",
              "      <td>RENT</td>\n",
              "      <td>14.5</td>\n",
              "      <td>PERSONAL</td>\n",
              "      <td>35000</td>\n",
              "      <td>16.02</td>\n",
              "      <td>0.59</td>\n",
              "      <td>Y</td>\n",
              "      <td>3.0</td>\n",
              "    </tr>\n",
              "    <tr>\n",
              "      <th>1</th>\n",
              "      <td>1</td>\n",
              "      <td>21.0</td>\n",
              "      <td>9600.0</td>\n",
              "      <td>OWN</td>\n",
              "      <td>5.0</td>\n",
              "      <td>EDUCATION</td>\n",
              "      <td>1000</td>\n",
              "      <td>11.14</td>\n",
              "      <td>0.10</td>\n",
              "      <td>N</td>\n",
              "      <td>2.0</td>\n",
              "    </tr>\n",
              "    <tr>\n",
              "      <th>2</th>\n",
              "      <td>2</td>\n",
              "      <td>25.0</td>\n",
              "      <td>9600.0</td>\n",
              "      <td>MORTGAGE</td>\n",
              "      <td>1.0</td>\n",
              "      <td>MEDICAL</td>\n",
              "      <td>5500</td>\n",
              "      <td>12.87</td>\n",
              "      <td>0.57</td>\n",
              "      <td>N</td>\n",
              "      <td>3.0</td>\n",
              "    </tr>\n",
              "    <tr>\n",
              "      <th>3</th>\n",
              "      <td>3</td>\n",
              "      <td>23.0</td>\n",
              "      <td>65500.0</td>\n",
              "      <td>RENT</td>\n",
              "      <td>4.0</td>\n",
              "      <td>MEDICAL</td>\n",
              "      <td>35000</td>\n",
              "      <td>15.23</td>\n",
              "      <td>0.53</td>\n",
              "      <td>N</td>\n",
              "      <td>2.0</td>\n",
              "    </tr>\n",
              "    <tr>\n",
              "      <th>4</th>\n",
              "      <td>4</td>\n",
              "      <td>24.0</td>\n",
              "      <td>54400.0</td>\n",
              "      <td>RENT</td>\n",
              "      <td>8.0</td>\n",
              "      <td>MEDICAL</td>\n",
              "      <td>35000</td>\n",
              "      <td>14.27</td>\n",
              "      <td>0.55</td>\n",
              "      <td>Y</td>\n",
              "      <td>4.0</td>\n",
              "    </tr>\n",
              "    <tr>\n",
              "      <th>...</th>\n",
              "      <td>...</td>\n",
              "      <td>...</td>\n",
              "      <td>...</td>\n",
              "      <td>...</td>\n",
              "      <td>...</td>\n",
              "      <td>...</td>\n",
              "      <td>...</td>\n",
              "      <td>...</td>\n",
              "      <td>...</td>\n",
              "      <td>...</td>\n",
              "      <td>...</td>\n",
              "    </tr>\n",
              "    <tr>\n",
              "      <th>32411</th>\n",
              "      <td>32576</td>\n",
              "      <td>40.5</td>\n",
              "      <td>53000.0</td>\n",
              "      <td>MORTGAGE</td>\n",
              "      <td>1.0</td>\n",
              "      <td>PERSONAL</td>\n",
              "      <td>5800</td>\n",
              "      <td>13.16</td>\n",
              "      <td>0.11</td>\n",
              "      <td>N</td>\n",
              "      <td>15.5</td>\n",
              "    </tr>\n",
              "    <tr>\n",
              "      <th>32412</th>\n",
              "      <td>32577</td>\n",
              "      <td>40.5</td>\n",
              "      <td>120000.0</td>\n",
              "      <td>MORTGAGE</td>\n",
              "      <td>4.0</td>\n",
              "      <td>PERSONAL</td>\n",
              "      <td>17625</td>\n",
              "      <td>7.49</td>\n",
              "      <td>0.15</td>\n",
              "      <td>N</td>\n",
              "      <td>15.5</td>\n",
              "    </tr>\n",
              "    <tr>\n",
              "      <th>32413</th>\n",
              "      <td>32578</td>\n",
              "      <td>40.5</td>\n",
              "      <td>76000.0</td>\n",
              "      <td>RENT</td>\n",
              "      <td>3.0</td>\n",
              "      <td>HOMEIMPROVEMENT</td>\n",
              "      <td>35000</td>\n",
              "      <td>10.99</td>\n",
              "      <td>0.46</td>\n",
              "      <td>N</td>\n",
              "      <td>15.5</td>\n",
              "    </tr>\n",
              "    <tr>\n",
              "      <th>32414</th>\n",
              "      <td>32579</td>\n",
              "      <td>40.5</td>\n",
              "      <td>140232.0</td>\n",
              "      <td>MORTGAGE</td>\n",
              "      <td>5.0</td>\n",
              "      <td>PERSONAL</td>\n",
              "      <td>15000</td>\n",
              "      <td>11.48</td>\n",
              "      <td>0.10</td>\n",
              "      <td>N</td>\n",
              "      <td>15.5</td>\n",
              "    </tr>\n",
              "    <tr>\n",
              "      <th>32415</th>\n",
              "      <td>32580</td>\n",
              "      <td>40.5</td>\n",
              "      <td>42000.0</td>\n",
              "      <td>RENT</td>\n",
              "      <td>2.0</td>\n",
              "      <td>MEDICAL</td>\n",
              "      <td>6475</td>\n",
              "      <td>9.99</td>\n",
              "      <td>0.15</td>\n",
              "      <td>N</td>\n",
              "      <td>15.5</td>\n",
              "    </tr>\n",
              "  </tbody>\n",
              "</table>\n",
              "<p>32416 rows × 11 columns</p>\n",
              "</div>\n",
              "      <button class=\"colab-df-convert\" onclick=\"convertToInteractive('df-f49575d6-445b-4a88-bc5d-2f9818751965')\"\n",
              "              title=\"Convert this dataframe to an interactive table.\"\n",
              "              style=\"display:none;\">\n",
              "        \n",
              "  <svg xmlns=\"http://www.w3.org/2000/svg\" height=\"24px\"viewBox=\"0 0 24 24\"\n",
              "       width=\"24px\">\n",
              "    <path d=\"M0 0h24v24H0V0z\" fill=\"none\"/>\n",
              "    <path d=\"M18.56 5.44l.94 2.06.94-2.06 2.06-.94-2.06-.94-.94-2.06-.94 2.06-2.06.94zm-11 1L8.5 8.5l.94-2.06 2.06-.94-2.06-.94L8.5 2.5l-.94 2.06-2.06.94zm10 10l.94 2.06.94-2.06 2.06-.94-2.06-.94-.94-2.06-.94 2.06-2.06.94z\"/><path d=\"M17.41 7.96l-1.37-1.37c-.4-.4-.92-.59-1.43-.59-.52 0-1.04.2-1.43.59L10.3 9.45l-7.72 7.72c-.78.78-.78 2.05 0 2.83L4 21.41c.39.39.9.59 1.41.59.51 0 1.02-.2 1.41-.59l7.78-7.78 2.81-2.81c.8-.78.8-2.07 0-2.86zM5.41 20L4 18.59l7.72-7.72 1.47 1.35L5.41 20z\"/>\n",
              "  </svg>\n",
              "      </button>\n",
              "      \n",
              "  <style>\n",
              "    .colab-df-container {\n",
              "      display:flex;\n",
              "      flex-wrap:wrap;\n",
              "      gap: 12px;\n",
              "    }\n",
              "\n",
              "    .colab-df-convert {\n",
              "      background-color: #E8F0FE;\n",
              "      border: none;\n",
              "      border-radius: 50%;\n",
              "      cursor: pointer;\n",
              "      display: none;\n",
              "      fill: #1967D2;\n",
              "      height: 32px;\n",
              "      padding: 0 0 0 0;\n",
              "      width: 32px;\n",
              "    }\n",
              "\n",
              "    .colab-df-convert:hover {\n",
              "      background-color: #E2EBFA;\n",
              "      box-shadow: 0px 1px 2px rgba(60, 64, 67, 0.3), 0px 1px 3px 1px rgba(60, 64, 67, 0.15);\n",
              "      fill: #174EA6;\n",
              "    }\n",
              "\n",
              "    [theme=dark] .colab-df-convert {\n",
              "      background-color: #3B4455;\n",
              "      fill: #D2E3FC;\n",
              "    }\n",
              "\n",
              "    [theme=dark] .colab-df-convert:hover {\n",
              "      background-color: #434B5C;\n",
              "      box-shadow: 0px 1px 3px 1px rgba(0, 0, 0, 0.15);\n",
              "      filter: drop-shadow(0px 1px 2px rgba(0, 0, 0, 0.3));\n",
              "      fill: #FFFFFF;\n",
              "    }\n",
              "  </style>\n",
              "\n",
              "      <script>\n",
              "        const buttonEl =\n",
              "          document.querySelector('#df-f49575d6-445b-4a88-bc5d-2f9818751965 button.colab-df-convert');\n",
              "        buttonEl.style.display =\n",
              "          google.colab.kernel.accessAllowed ? 'block' : 'none';\n",
              "\n",
              "        async function convertToInteractive(key) {\n",
              "          const element = document.querySelector('#df-f49575d6-445b-4a88-bc5d-2f9818751965');\n",
              "          const dataTable =\n",
              "            await google.colab.kernel.invokeFunction('convertToInteractive',\n",
              "                                                     [key], {});\n",
              "          if (!dataTable) return;\n",
              "\n",
              "          const docLinkHtml = 'Like what you see? Visit the ' +\n",
              "            '<a target=\"_blank\" href=https://colab.research.google.com/notebooks/data_table.ipynb>data table notebook</a>'\n",
              "            + ' to learn more about interactive tables.';\n",
              "          element.innerHTML = '';\n",
              "          dataTable['output_type'] = 'display_data';\n",
              "          await google.colab.output.renderOutput(dataTable, element);\n",
              "          const docLink = document.createElement('div');\n",
              "          docLink.innerHTML = docLinkHtml;\n",
              "          element.appendChild(docLink);\n",
              "        }\n",
              "      </script>\n",
              "    </div>\n",
              "  </div>\n",
              "  "
            ]
          },
          "metadata": {},
          "execution_count": 34
        }
      ]
    },
    {
      "cell_type": "code",
      "source": [
        "target"
      ],
      "metadata": {
        "id": "Rq5bFhsByd-y",
        "outputId": "d7aadc7d-b3a6-4a40-9335-7cdb509029d1",
        "colab": {
          "base_uri": "https://localhost:8080/"
        }
      },
      "execution_count": null,
      "outputs": [
        {
          "output_type": "execute_result",
          "data": {
            "text/plain": [
              "0        D\n",
              "1        B\n",
              "2        C\n",
              "3        C\n",
              "4        C\n",
              "        ..\n",
              "32411    C\n",
              "32412    A\n",
              "32413    B\n",
              "32414    B\n",
              "32415    B\n",
              "Name: loan_grade, Length: 32416, dtype: object"
            ]
          },
          "metadata": {},
          "execution_count": 35
        }
      ]
    },
    {
      "cell_type": "code",
      "source": [
        "loans_encoded = pd.get_dummies(df, columns=['person_home_ownership','loan_intent','cb_person_default_on_file'])\n",
        "X = loans_encoded.drop(columns='loan_grade')\n",
        "y = df[['loan_grade']]"
      ],
      "metadata": {
        "id": "0SqRn5FBygDQ"
      },
      "execution_count": null,
      "outputs": []
    },
    {
      "cell_type": "code",
      "source": [
        "X.describe().T"
      ],
      "metadata": {
        "id": "5X-HjxLrzb3_",
        "outputId": "c82e30be-69c8-45d8-ec42-fa96230e7a2d",
        "colab": {
          "base_uri": "https://localhost:8080/",
          "height": 676
        }
      },
      "execution_count": null,
      "outputs": [
        {
          "output_type": "execute_result",
          "data": {
            "text/plain": [
              "                                  count          mean           std      min  \\\n",
              "Unnamed: 0                      32416.0  16270.898476   9417.657932     0.00   \n",
              "person_age                      32416.0     27.451922      5.274139    20.00   \n",
              "person_income                   32416.0  62437.029831  31807.394422  4000.00   \n",
              "person_emp_length               32416.0      4.682718      3.719366     0.00   \n",
              "loan_amnt                       32416.0   9593.845632   6322.730241   500.00   \n",
              "loan_int_rate                   32416.0     11.014662      3.083050     5.42   \n",
              "loan_percent_income             32416.0      0.170250      0.106812     0.00   \n",
              "cb_person_cred_hist_length      32416.0      5.712441      3.713420     2.00   \n",
              "person_home_ownership_MORTGAGE  32416.0      0.412420      0.492278     0.00   \n",
              "person_home_ownership_OTHER     32416.0      0.003270      0.057091     0.00   \n",
              "person_home_ownership_OWN       32416.0      0.079066      0.269846     0.00   \n",
              "person_home_ownership_RENT      32416.0      0.505244      0.499980     0.00   \n",
              "loan_intent_DEBTCONSOLIDATION   32416.0      0.160075      0.366682     0.00   \n",
              "loan_intent_EDUCATION           32416.0      0.197773      0.398326     0.00   \n",
              "loan_intent_HOMEIMPROVEMENT     32416.0      0.110871      0.313977     0.00   \n",
              "loan_intent_MEDICAL             32416.0      0.186389      0.389427     0.00   \n",
              "loan_intent_PERSONAL            32416.0      0.169608      0.375293     0.00   \n",
              "loan_intent_VENTURE             32416.0      0.175284      0.380216     0.00   \n",
              "cb_person_default_on_file_N     32416.0      0.823235      0.381475     0.00   \n",
              "cb_person_default_on_file_Y     32416.0      0.176765      0.381475     0.00   \n",
              "\n",
              "                                     25%       50%       75%        max  \n",
              "Unnamed: 0                       8103.75  16226.50  24433.25   32580.00  \n",
              "person_age                         23.00     26.00     30.00      40.50  \n",
              "person_income                   38542.00  55000.00  79218.00  140232.00  \n",
              "person_emp_length                   2.00      4.00      7.00      14.50  \n",
              "loan_amnt                        5000.00   8000.00  12250.00   35000.00  \n",
              "loan_int_rate                       8.49     10.99     13.11      23.22  \n",
              "loan_percent_income                 0.09      0.15      0.23       0.83  \n",
              "cb_person_cred_hist_length          3.00      4.00      8.00      15.50  \n",
              "person_home_ownership_MORTGAGE      0.00      0.00      1.00       1.00  \n",
              "person_home_ownership_OTHER         0.00      0.00      0.00       1.00  \n",
              "person_home_ownership_OWN           0.00      0.00      0.00       1.00  \n",
              "person_home_ownership_RENT          0.00      1.00      1.00       1.00  \n",
              "loan_intent_DEBTCONSOLIDATION       0.00      0.00      0.00       1.00  \n",
              "loan_intent_EDUCATION               0.00      0.00      0.00       1.00  \n",
              "loan_intent_HOMEIMPROVEMENT         0.00      0.00      0.00       1.00  \n",
              "loan_intent_MEDICAL                 0.00      0.00      0.00       1.00  \n",
              "loan_intent_PERSONAL                0.00      0.00      0.00       1.00  \n",
              "loan_intent_VENTURE                 0.00      0.00      0.00       1.00  \n",
              "cb_person_default_on_file_N         1.00      1.00      1.00       1.00  \n",
              "cb_person_default_on_file_Y         0.00      0.00      0.00       1.00  "
            ],
            "text/html": [
              "\n",
              "  <div id=\"df-fed6fc1e-2ded-4c4b-9b46-7075b13ca080\">\n",
              "    <div class=\"colab-df-container\">\n",
              "      <div>\n",
              "<style scoped>\n",
              "    .dataframe tbody tr th:only-of-type {\n",
              "        vertical-align: middle;\n",
              "    }\n",
              "\n",
              "    .dataframe tbody tr th {\n",
              "        vertical-align: top;\n",
              "    }\n",
              "\n",
              "    .dataframe thead th {\n",
              "        text-align: right;\n",
              "    }\n",
              "</style>\n",
              "<table border=\"1\" class=\"dataframe\">\n",
              "  <thead>\n",
              "    <tr style=\"text-align: right;\">\n",
              "      <th></th>\n",
              "      <th>count</th>\n",
              "      <th>mean</th>\n",
              "      <th>std</th>\n",
              "      <th>min</th>\n",
              "      <th>25%</th>\n",
              "      <th>50%</th>\n",
              "      <th>75%</th>\n",
              "      <th>max</th>\n",
              "    </tr>\n",
              "  </thead>\n",
              "  <tbody>\n",
              "    <tr>\n",
              "      <th>Unnamed: 0</th>\n",
              "      <td>32416.0</td>\n",
              "      <td>16270.898476</td>\n",
              "      <td>9417.657932</td>\n",
              "      <td>0.00</td>\n",
              "      <td>8103.75</td>\n",
              "      <td>16226.50</td>\n",
              "      <td>24433.25</td>\n",
              "      <td>32580.00</td>\n",
              "    </tr>\n",
              "    <tr>\n",
              "      <th>person_age</th>\n",
              "      <td>32416.0</td>\n",
              "      <td>27.451922</td>\n",
              "      <td>5.274139</td>\n",
              "      <td>20.00</td>\n",
              "      <td>23.00</td>\n",
              "      <td>26.00</td>\n",
              "      <td>30.00</td>\n",
              "      <td>40.50</td>\n",
              "    </tr>\n",
              "    <tr>\n",
              "      <th>person_income</th>\n",
              "      <td>32416.0</td>\n",
              "      <td>62437.029831</td>\n",
              "      <td>31807.394422</td>\n",
              "      <td>4000.00</td>\n",
              "      <td>38542.00</td>\n",
              "      <td>55000.00</td>\n",
              "      <td>79218.00</td>\n",
              "      <td>140232.00</td>\n",
              "    </tr>\n",
              "    <tr>\n",
              "      <th>person_emp_length</th>\n",
              "      <td>32416.0</td>\n",
              "      <td>4.682718</td>\n",
              "      <td>3.719366</td>\n",
              "      <td>0.00</td>\n",
              "      <td>2.00</td>\n",
              "      <td>4.00</td>\n",
              "      <td>7.00</td>\n",
              "      <td>14.50</td>\n",
              "    </tr>\n",
              "    <tr>\n",
              "      <th>loan_amnt</th>\n",
              "      <td>32416.0</td>\n",
              "      <td>9593.845632</td>\n",
              "      <td>6322.730241</td>\n",
              "      <td>500.00</td>\n",
              "      <td>5000.00</td>\n",
              "      <td>8000.00</td>\n",
              "      <td>12250.00</td>\n",
              "      <td>35000.00</td>\n",
              "    </tr>\n",
              "    <tr>\n",
              "      <th>loan_int_rate</th>\n",
              "      <td>32416.0</td>\n",
              "      <td>11.014662</td>\n",
              "      <td>3.083050</td>\n",
              "      <td>5.42</td>\n",
              "      <td>8.49</td>\n",
              "      <td>10.99</td>\n",
              "      <td>13.11</td>\n",
              "      <td>23.22</td>\n",
              "    </tr>\n",
              "    <tr>\n",
              "      <th>loan_percent_income</th>\n",
              "      <td>32416.0</td>\n",
              "      <td>0.170250</td>\n",
              "      <td>0.106812</td>\n",
              "      <td>0.00</td>\n",
              "      <td>0.09</td>\n",
              "      <td>0.15</td>\n",
              "      <td>0.23</td>\n",
              "      <td>0.83</td>\n",
              "    </tr>\n",
              "    <tr>\n",
              "      <th>cb_person_cred_hist_length</th>\n",
              "      <td>32416.0</td>\n",
              "      <td>5.712441</td>\n",
              "      <td>3.713420</td>\n",
              "      <td>2.00</td>\n",
              "      <td>3.00</td>\n",
              "      <td>4.00</td>\n",
              "      <td>8.00</td>\n",
              "      <td>15.50</td>\n",
              "    </tr>\n",
              "    <tr>\n",
              "      <th>person_home_ownership_MORTGAGE</th>\n",
              "      <td>32416.0</td>\n",
              "      <td>0.412420</td>\n",
              "      <td>0.492278</td>\n",
              "      <td>0.00</td>\n",
              "      <td>0.00</td>\n",
              "      <td>0.00</td>\n",
              "      <td>1.00</td>\n",
              "      <td>1.00</td>\n",
              "    </tr>\n",
              "    <tr>\n",
              "      <th>person_home_ownership_OTHER</th>\n",
              "      <td>32416.0</td>\n",
              "      <td>0.003270</td>\n",
              "      <td>0.057091</td>\n",
              "      <td>0.00</td>\n",
              "      <td>0.00</td>\n",
              "      <td>0.00</td>\n",
              "      <td>0.00</td>\n",
              "      <td>1.00</td>\n",
              "    </tr>\n",
              "    <tr>\n",
              "      <th>person_home_ownership_OWN</th>\n",
              "      <td>32416.0</td>\n",
              "      <td>0.079066</td>\n",
              "      <td>0.269846</td>\n",
              "      <td>0.00</td>\n",
              "      <td>0.00</td>\n",
              "      <td>0.00</td>\n",
              "      <td>0.00</td>\n",
              "      <td>1.00</td>\n",
              "    </tr>\n",
              "    <tr>\n",
              "      <th>person_home_ownership_RENT</th>\n",
              "      <td>32416.0</td>\n",
              "      <td>0.505244</td>\n",
              "      <td>0.499980</td>\n",
              "      <td>0.00</td>\n",
              "      <td>0.00</td>\n",
              "      <td>1.00</td>\n",
              "      <td>1.00</td>\n",
              "      <td>1.00</td>\n",
              "    </tr>\n",
              "    <tr>\n",
              "      <th>loan_intent_DEBTCONSOLIDATION</th>\n",
              "      <td>32416.0</td>\n",
              "      <td>0.160075</td>\n",
              "      <td>0.366682</td>\n",
              "      <td>0.00</td>\n",
              "      <td>0.00</td>\n",
              "      <td>0.00</td>\n",
              "      <td>0.00</td>\n",
              "      <td>1.00</td>\n",
              "    </tr>\n",
              "    <tr>\n",
              "      <th>loan_intent_EDUCATION</th>\n",
              "      <td>32416.0</td>\n",
              "      <td>0.197773</td>\n",
              "      <td>0.398326</td>\n",
              "      <td>0.00</td>\n",
              "      <td>0.00</td>\n",
              "      <td>0.00</td>\n",
              "      <td>0.00</td>\n",
              "      <td>1.00</td>\n",
              "    </tr>\n",
              "    <tr>\n",
              "      <th>loan_intent_HOMEIMPROVEMENT</th>\n",
              "      <td>32416.0</td>\n",
              "      <td>0.110871</td>\n",
              "      <td>0.313977</td>\n",
              "      <td>0.00</td>\n",
              "      <td>0.00</td>\n",
              "      <td>0.00</td>\n",
              "      <td>0.00</td>\n",
              "      <td>1.00</td>\n",
              "    </tr>\n",
              "    <tr>\n",
              "      <th>loan_intent_MEDICAL</th>\n",
              "      <td>32416.0</td>\n",
              "      <td>0.186389</td>\n",
              "      <td>0.389427</td>\n",
              "      <td>0.00</td>\n",
              "      <td>0.00</td>\n",
              "      <td>0.00</td>\n",
              "      <td>0.00</td>\n",
              "      <td>1.00</td>\n",
              "    </tr>\n",
              "    <tr>\n",
              "      <th>loan_intent_PERSONAL</th>\n",
              "      <td>32416.0</td>\n",
              "      <td>0.169608</td>\n",
              "      <td>0.375293</td>\n",
              "      <td>0.00</td>\n",
              "      <td>0.00</td>\n",
              "      <td>0.00</td>\n",
              "      <td>0.00</td>\n",
              "      <td>1.00</td>\n",
              "    </tr>\n",
              "    <tr>\n",
              "      <th>loan_intent_VENTURE</th>\n",
              "      <td>32416.0</td>\n",
              "      <td>0.175284</td>\n",
              "      <td>0.380216</td>\n",
              "      <td>0.00</td>\n",
              "      <td>0.00</td>\n",
              "      <td>0.00</td>\n",
              "      <td>0.00</td>\n",
              "      <td>1.00</td>\n",
              "    </tr>\n",
              "    <tr>\n",
              "      <th>cb_person_default_on_file_N</th>\n",
              "      <td>32416.0</td>\n",
              "      <td>0.823235</td>\n",
              "      <td>0.381475</td>\n",
              "      <td>0.00</td>\n",
              "      <td>1.00</td>\n",
              "      <td>1.00</td>\n",
              "      <td>1.00</td>\n",
              "      <td>1.00</td>\n",
              "    </tr>\n",
              "    <tr>\n",
              "      <th>cb_person_default_on_file_Y</th>\n",
              "      <td>32416.0</td>\n",
              "      <td>0.176765</td>\n",
              "      <td>0.381475</td>\n",
              "      <td>0.00</td>\n",
              "      <td>0.00</td>\n",
              "      <td>0.00</td>\n",
              "      <td>0.00</td>\n",
              "      <td>1.00</td>\n",
              "    </tr>\n",
              "  </tbody>\n",
              "</table>\n",
              "</div>\n",
              "      <button class=\"colab-df-convert\" onclick=\"convertToInteractive('df-fed6fc1e-2ded-4c4b-9b46-7075b13ca080')\"\n",
              "              title=\"Convert this dataframe to an interactive table.\"\n",
              "              style=\"display:none;\">\n",
              "        \n",
              "  <svg xmlns=\"http://www.w3.org/2000/svg\" height=\"24px\"viewBox=\"0 0 24 24\"\n",
              "       width=\"24px\">\n",
              "    <path d=\"M0 0h24v24H0V0z\" fill=\"none\"/>\n",
              "    <path d=\"M18.56 5.44l.94 2.06.94-2.06 2.06-.94-2.06-.94-.94-2.06-.94 2.06-2.06.94zm-11 1L8.5 8.5l.94-2.06 2.06-.94-2.06-.94L8.5 2.5l-.94 2.06-2.06.94zm10 10l.94 2.06.94-2.06 2.06-.94-2.06-.94-.94-2.06-.94 2.06-2.06.94z\"/><path d=\"M17.41 7.96l-1.37-1.37c-.4-.4-.92-.59-1.43-.59-.52 0-1.04.2-1.43.59L10.3 9.45l-7.72 7.72c-.78.78-.78 2.05 0 2.83L4 21.41c.39.39.9.59 1.41.59.51 0 1.02-.2 1.41-.59l7.78-7.78 2.81-2.81c.8-.78.8-2.07 0-2.86zM5.41 20L4 18.59l7.72-7.72 1.47 1.35L5.41 20z\"/>\n",
              "  </svg>\n",
              "      </button>\n",
              "      \n",
              "  <style>\n",
              "    .colab-df-container {\n",
              "      display:flex;\n",
              "      flex-wrap:wrap;\n",
              "      gap: 12px;\n",
              "    }\n",
              "\n",
              "    .colab-df-convert {\n",
              "      background-color: #E8F0FE;\n",
              "      border: none;\n",
              "      border-radius: 50%;\n",
              "      cursor: pointer;\n",
              "      display: none;\n",
              "      fill: #1967D2;\n",
              "      height: 32px;\n",
              "      padding: 0 0 0 0;\n",
              "      width: 32px;\n",
              "    }\n",
              "\n",
              "    .colab-df-convert:hover {\n",
              "      background-color: #E2EBFA;\n",
              "      box-shadow: 0px 1px 2px rgba(60, 64, 67, 0.3), 0px 1px 3px 1px rgba(60, 64, 67, 0.15);\n",
              "      fill: #174EA6;\n",
              "    }\n",
              "\n",
              "    [theme=dark] .colab-df-convert {\n",
              "      background-color: #3B4455;\n",
              "      fill: #D2E3FC;\n",
              "    }\n",
              "\n",
              "    [theme=dark] .colab-df-convert:hover {\n",
              "      background-color: #434B5C;\n",
              "      box-shadow: 0px 1px 3px 1px rgba(0, 0, 0, 0.15);\n",
              "      filter: drop-shadow(0px 1px 2px rgba(0, 0, 0, 0.3));\n",
              "      fill: #FFFFFF;\n",
              "    }\n",
              "  </style>\n",
              "\n",
              "      <script>\n",
              "        const buttonEl =\n",
              "          document.querySelector('#df-fed6fc1e-2ded-4c4b-9b46-7075b13ca080 button.colab-df-convert');\n",
              "        buttonEl.style.display =\n",
              "          google.colab.kernel.accessAllowed ? 'block' : 'none';\n",
              "\n",
              "        async function convertToInteractive(key) {\n",
              "          const element = document.querySelector('#df-fed6fc1e-2ded-4c4b-9b46-7075b13ca080');\n",
              "          const dataTable =\n",
              "            await google.colab.kernel.invokeFunction('convertToInteractive',\n",
              "                                                     [key], {});\n",
              "          if (!dataTable) return;\n",
              "\n",
              "          const docLinkHtml = 'Like what you see? Visit the ' +\n",
              "            '<a target=\"_blank\" href=https://colab.research.google.com/notebooks/data_table.ipynb>data table notebook</a>'\n",
              "            + ' to learn more about interactive tables.';\n",
              "          element.innerHTML = '';\n",
              "          dataTable['output_type'] = 'display_data';\n",
              "          await google.colab.output.renderOutput(dataTable, element);\n",
              "          const docLink = document.createElement('div');\n",
              "          docLink.innerHTML = docLinkHtml;\n",
              "          element.appendChild(docLink);\n",
              "        }\n",
              "      </script>\n",
              "    </div>\n",
              "  </div>\n",
              "  "
            ]
          },
          "metadata": {},
          "execution_count": 37
        }
      ]
    },
    {
      "cell_type": "code",
      "source": [],
      "metadata": {
        "id": "6dxtrLF_SaJ_"
      },
      "execution_count": null,
      "outputs": []
    },
    {
      "cell_type": "code",
      "source": [
        "y['loan_grade'].value_counts()"
      ],
      "metadata": {
        "id": "yv8Hn5XtzzIg",
        "outputId": "5c46e270-847e-404d-cee1-ab03c6e354cc",
        "colab": {
          "base_uri": "https://localhost:8080/"
        }
      },
      "execution_count": null,
      "outputs": [
        {
          "output_type": "execute_result",
          "data": {
            "text/plain": [
              "A    10703\n",
              "B    10387\n",
              "C     6438\n",
              "D     3620\n",
              "E      963\n",
              "F      241\n",
              "G       64\n",
              "Name: loan_grade, dtype: int64"
            ]
          },
          "metadata": {},
          "execution_count": 38
        }
      ]
    },
    {
      "cell_type": "code",
      "source": [
        "from sklearn.model_selection import train_test_split\n",
        "X_train, X_test, y_train, y_test = train_test_split(X, y, random_state=1)"
      ],
      "metadata": {
        "id": "SCPNwU8J0A6w"
      },
      "execution_count": null,
      "outputs": []
    },
    {
      "cell_type": "code",
      "source": [
        "from imblearn.ensemble import BalancedRandomForestClassifier\n",
        "brf_model = BalancedRandomForestClassifier(n_estimators=100, random_state=1)\n",
        "brf_model.fit(X_train, y_train)"
      ],
      "metadata": {
        "id": "zUx7SUsE0PUj",
        "outputId": "4d7fa6ba-0501-410f-e76f-79492ba5256b",
        "colab": {
          "base_uri": "https://localhost:8080/",
          "height": 74
        }
      },
      "execution_count": null,
      "outputs": [
        {
          "output_type": "execute_result",
          "data": {
            "text/plain": [
              "BalancedRandomForestClassifier(random_state=1)"
            ],
            "text/html": [
              "<style>#sk-container-id-2 {color: black;background-color: white;}#sk-container-id-2 pre{padding: 0;}#sk-container-id-2 div.sk-toggleable {background-color: white;}#sk-container-id-2 label.sk-toggleable__label {cursor: pointer;display: block;width: 100%;margin-bottom: 0;padding: 0.3em;box-sizing: border-box;text-align: center;}#sk-container-id-2 label.sk-toggleable__label-arrow:before {content: \"▸\";float: left;margin-right: 0.25em;color: #696969;}#sk-container-id-2 label.sk-toggleable__label-arrow:hover:before {color: black;}#sk-container-id-2 div.sk-estimator:hover label.sk-toggleable__label-arrow:before {color: black;}#sk-container-id-2 div.sk-toggleable__content {max-height: 0;max-width: 0;overflow: hidden;text-align: left;background-color: #f0f8ff;}#sk-container-id-2 div.sk-toggleable__content pre {margin: 0.2em;color: black;border-radius: 0.25em;background-color: #f0f8ff;}#sk-container-id-2 input.sk-toggleable__control:checked~div.sk-toggleable__content {max-height: 200px;max-width: 100%;overflow: auto;}#sk-container-id-2 input.sk-toggleable__control:checked~label.sk-toggleable__label-arrow:before {content: \"▾\";}#sk-container-id-2 div.sk-estimator input.sk-toggleable__control:checked~label.sk-toggleable__label {background-color: #d4ebff;}#sk-container-id-2 div.sk-label input.sk-toggleable__control:checked~label.sk-toggleable__label {background-color: #d4ebff;}#sk-container-id-2 input.sk-hidden--visually {border: 0;clip: rect(1px 1px 1px 1px);clip: rect(1px, 1px, 1px, 1px);height: 1px;margin: -1px;overflow: hidden;padding: 0;position: absolute;width: 1px;}#sk-container-id-2 div.sk-estimator {font-family: monospace;background-color: #f0f8ff;border: 1px dotted black;border-radius: 0.25em;box-sizing: border-box;margin-bottom: 0.5em;}#sk-container-id-2 div.sk-estimator:hover {background-color: #d4ebff;}#sk-container-id-2 div.sk-parallel-item::after {content: \"\";width: 100%;border-bottom: 1px solid gray;flex-grow: 1;}#sk-container-id-2 div.sk-label:hover label.sk-toggleable__label {background-color: #d4ebff;}#sk-container-id-2 div.sk-serial::before {content: \"\";position: absolute;border-left: 1px solid gray;box-sizing: border-box;top: 0;bottom: 0;left: 50%;z-index: 0;}#sk-container-id-2 div.sk-serial {display: flex;flex-direction: column;align-items: center;background-color: white;padding-right: 0.2em;padding-left: 0.2em;position: relative;}#sk-container-id-2 div.sk-item {position: relative;z-index: 1;}#sk-container-id-2 div.sk-parallel {display: flex;align-items: stretch;justify-content: center;background-color: white;position: relative;}#sk-container-id-2 div.sk-item::before, #sk-container-id-2 div.sk-parallel-item::before {content: \"\";position: absolute;border-left: 1px solid gray;box-sizing: border-box;top: 0;bottom: 0;left: 50%;z-index: -1;}#sk-container-id-2 div.sk-parallel-item {display: flex;flex-direction: column;z-index: 1;position: relative;background-color: white;}#sk-container-id-2 div.sk-parallel-item:first-child::after {align-self: flex-end;width: 50%;}#sk-container-id-2 div.sk-parallel-item:last-child::after {align-self: flex-start;width: 50%;}#sk-container-id-2 div.sk-parallel-item:only-child::after {width: 0;}#sk-container-id-2 div.sk-dashed-wrapped {border: 1px dashed gray;margin: 0 0.4em 0.5em 0.4em;box-sizing: border-box;padding-bottom: 0.4em;background-color: white;}#sk-container-id-2 div.sk-label label {font-family: monospace;font-weight: bold;display: inline-block;line-height: 1.2em;}#sk-container-id-2 div.sk-label-container {text-align: center;}#sk-container-id-2 div.sk-container {/* jupyter's `normalize.less` sets `[hidden] { display: none; }` but bootstrap.min.css set `[hidden] { display: none !important; }` so we also need the `!important` here to be able to override the default hidden behavior on the sphinx rendered scikit-learn.org. See: https://github.com/scikit-learn/scikit-learn/issues/21755 */display: inline-block !important;position: relative;}#sk-container-id-2 div.sk-text-repr-fallback {display: none;}</style><div id=\"sk-container-id-2\" class=\"sk-top-container\"><div class=\"sk-text-repr-fallback\"><pre>BalancedRandomForestClassifier(random_state=1)</pre><b>In a Jupyter environment, please rerun this cell to show the HTML representation or trust the notebook. <br />On GitHub, the HTML representation is unable to render, please try loading this page with nbviewer.org.</b></div><div class=\"sk-container\" hidden><div class=\"sk-item\"><div class=\"sk-estimator sk-toggleable\"><input class=\"sk-toggleable__control sk-hidden--visually\" id=\"sk-estimator-id-2\" type=\"checkbox\" checked><label for=\"sk-estimator-id-2\" class=\"sk-toggleable__label sk-toggleable__label-arrow\">BalancedRandomForestClassifier</label><div class=\"sk-toggleable__content\"><pre>BalancedRandomForestClassifier(random_state=1)</pre></div></div></div></div></div>"
            ]
          },
          "metadata": {},
          "execution_count": 40
        }
      ]
    },
    {
      "cell_type": "code",
      "source": [
        "from sklearn import datasets\n",
        "from sklearn.tree import DecisionTreeClassifier\n",
        "from sklearn.model_selection import KFold, cross_val_score"
      ],
      "metadata": {
        "id": "_sVUVsWqX4eg"
      },
      "execution_count": null,
      "outputs": []
    },
    {
      "cell_type": "code",
      "source": [
        "X, y = datasets.load_iris(return_X_y=True)\n",
        "\n",
        "clf = DecisionTreeClassifier(random_state=42)\n",
        "\n",
        "k_folds = KFold(n_splits = 5)\n",
        "\n",
        "scores = cross_val_score(clf, X, y, cv = k_folds)\n",
        "\n",
        "print(\"Cross Validation Scores: \", scores)\n",
        "print(\"Average CV Score: \", scores.mean())\n",
        "print(\"Number of CV Scores used in Average: \", len(scores))"
      ],
      "metadata": {
        "id": "xCvF-FnHYBx1",
        "outputId": "a70ad263-50f3-4524-8e5f-82774f1cf0ed",
        "colab": {
          "base_uri": "https://localhost:8080/"
        }
      },
      "execution_count": null,
      "outputs": [
        {
          "output_type": "stream",
          "name": "stdout",
          "text": [
            "Cross Validation Scores:  [1.         1.         0.83333333 0.93333333 0.8       ]\n",
            "Average CV Score:  0.9133333333333333\n",
            "Number of CV Scores used in Average:  5\n"
          ]
        }
      ]
    },
    {
      "cell_type": "code",
      "source": [
        "from sklearn.metrics import balanced_accuracy_score\n",
        "predictions = brf_model.predict(X_test)\n",
        "bal_acc_score = balanced_accuracy_score(y_test, predictions)\n",
        "bal_acc_score"
      ],
      "metadata": {
        "id": "Ns0Wl8pc0Qz4",
        "outputId": "f6fd1fb2-a881-492b-c815-eb8aad5f7304",
        "colab": {
          "base_uri": "https://localhost:8080/"
        }
      },
      "execution_count": null,
      "outputs": [
        {
          "output_type": "execute_result",
          "data": {
            "text/plain": [
              "0.6314464143533718"
            ]
          },
          "metadata": {},
          "execution_count": 43
        }
      ]
    },
    {
      "cell_type": "code",
      "source": [
        "from sklearn.metrics import confusion_matrix\n",
        "cm = confusion_matrix(y_test, predictions)\n",
        "cm"
      ],
      "metadata": {
        "id": "T_-rowod0YVA",
        "outputId": "c2e57799-8ad4-4af0-affd-e8a7611dd47f",
        "colab": {
          "base_uri": "https://localhost:8080/"
        }
      },
      "execution_count": null,
      "outputs": [
        {
          "output_type": "execute_result",
          "data": {
            "text/plain": [
              "array([[2390,  311,    0,    0,    0,    1,    2],\n",
              "       [  82, 2412,   11,    0,    0,    5,    8],\n",
              "       [   2,  218, 1152,  194,   28,   30,    5],\n",
              "       [   1,   51,  171,  426,  191,   65,    7],\n",
              "       [   0,   12,   13,   44,  116,   48,   17],\n",
              "       [   0,    3,    3,    2,   17,   26,   21],\n",
              "       [   0,    1,    1,    0,    1,    5,   11]])"
            ]
          },
          "metadata": {},
          "execution_count": 44
        }
      ]
    },
    {
      "cell_type": "code",
      "source": [
        "from imblearn.metrics import classification_report_imbalanced\n",
        "print(classification_report_imbalanced(y_test, predictions))"
      ],
      "metadata": {
        "id": "05TagTPh0aZY",
        "outputId": "fbc989df-6022-48b9-d8bc-14c5a72a6080",
        "colab": {
          "base_uri": "https://localhost:8080/"
        }
      },
      "execution_count": null,
      "outputs": [
        {
          "output_type": "stream",
          "name": "stdout",
          "text": [
            "                   pre       rec       spe        f1       geo       iba       sup\n",
            "\n",
            "          A       0.97      0.88      0.98      0.92      0.93      0.86      2704\n",
            "          B       0.80      0.96      0.89      0.87      0.93      0.86      2518\n",
            "          C       0.85      0.71      0.97      0.77      0.83      0.67      1629\n",
            "          D       0.64      0.47      0.97      0.54      0.67      0.43       912\n",
            "          E       0.33      0.46      0.97      0.38      0.67      0.43       250\n",
            "          F       0.14      0.36      0.98      0.21      0.60      0.33        72\n",
            "          G       0.15      0.58      0.99      0.24      0.76      0.55        19\n",
            "\n",
            "avg / total       0.83      0.81      0.95      0.81      0.87      0.75      8104\n",
            "\n"
          ]
        }
      ]
    },
    {
      "cell_type": "code",
      "source": [
        "brf_model.feature_importances_"
      ],
      "metadata": {
        "id": "AF0jCK4G0r2i",
        "outputId": "e399b153-9988-463b-9d67-723ead0fe2ba",
        "colab": {
          "base_uri": "https://localhost:8080/"
        }
      },
      "execution_count": null,
      "outputs": [
        {
          "output_type": "execute_result",
          "data": {
            "text/plain": [
              "array([0.08371728, 0.06100666, 0.08084584, 0.06809971, 0.0928711 ,\n",
              "       0.30292494, 0.07905687, 0.06034132, 0.01498897, 0.00107866,\n",
              "       0.00672137, 0.01492341, 0.01236943, 0.01553203, 0.01099662,\n",
              "       0.01576679, 0.01247881, 0.01747415, 0.02398995, 0.02481609])"
            ]
          },
          "metadata": {},
          "execution_count": 46
        }
      ]
    },
    {
      "cell_type": "code",
      "source": [
        "for (a,b) in sorted(zip(brf_model.feature_importances_, X_test.columns), reverse=True):\n",
        "    print(f'{b}: ({a})')"
      ],
      "metadata": {
        "id": "amxb822U0sGp",
        "outputId": "7f404bf5-d6d3-4e9c-c510-444a31bff132",
        "colab": {
          "base_uri": "https://localhost:8080/"
        }
      },
      "execution_count": null,
      "outputs": [
        {
          "output_type": "stream",
          "name": "stdout",
          "text": [
            "loan_int_rate: (0.30292493808854054)\n",
            "loan_amnt: (0.09287109659422217)\n",
            "Unnamed: 0: (0.08371728248850108)\n",
            "person_income: (0.08084584348045194)\n",
            "loan_percent_income: (0.0790568701356499)\n",
            "person_emp_length: (0.06809970636222562)\n",
            "person_age: (0.061006658607165254)\n",
            "cb_person_cred_hist_length: (0.06034131829578522)\n",
            "cb_person_default_on_file_Y: (0.024816085458705783)\n",
            "cb_person_default_on_file_N: (0.023989946820518308)\n",
            "loan_intent_VENTURE: (0.017474154925516825)\n",
            "loan_intent_MEDICAL: (0.015766793136670457)\n",
            "loan_intent_EDUCATION: (0.01553203409125133)\n",
            "person_home_ownership_MORTGAGE: (0.014988971131539994)\n",
            "person_home_ownership_RENT: (0.014923411806479579)\n",
            "loan_intent_PERSONAL: (0.01247881287566183)\n",
            "loan_intent_DEBTCONSOLIDATION: (0.012369429892390699)\n",
            "loan_intent_HOMEIMPROVEMENT: (0.010996617667278238)\n",
            "person_home_ownership_OWN: (0.006721372240853184)\n",
            "person_home_ownership_OTHER: (0.0010786559005918678)\n"
          ]
        }
      ]
    },
    {
      "cell_type": "code",
      "source": [
        "brf_model.predict([[1,21,9600,5,1000,11.14,0.10,2,0,0,1,0,0,1,0,0,0,0,1,0]])\t"
      ],
      "metadata": {
        "id": "sCx2FDY-3WLo",
        "outputId": "5f9f6400-d8cd-4ee5-b086-e412d7ef05f6",
        "colab": {
          "base_uri": "https://localhost:8080/"
        }
      },
      "execution_count": null,
      "outputs": [
        {
          "output_type": "execute_result",
          "data": {
            "text/plain": [
              "array(['B'], dtype=object)"
            ]
          },
          "metadata": {},
          "execution_count": 52
        }
      ]
    },
    {
      "cell_type": "code",
      "source": [
        "brf_model.predict([[1,40,700000,20,10000,8.02,0.014,3,0,0,1,0,0,0,0,0,1,0,1,0]])"
      ],
      "metadata": {
        "colab": {
          "base_uri": "https://localhost:8080/"
        },
        "id": "r4pnBXusTJfo",
        "outputId": "9225fceb-07a8-42d4-eda5-f8627904d11c"
      },
      "execution_count": null,
      "outputs": [
        {
          "output_type": "execute_result",
          "data": {
            "text/plain": [
              "array(['A'], dtype=object)"
            ]
          },
          "metadata": {},
          "execution_count": 53
        }
      ]
    },
    {
      "cell_type": "code",
      "source": [
        "brf_model.predict([[1,40,40000,8,80000,24.02,2.0,4,0,1,1,0,0,0,0,0,1,0,1,0]])"
      ],
      "metadata": {
        "id": "gdSpSlyOabmn",
        "outputId": "7cdb35f0-8814-474d-c32b-66e6eca52a19",
        "colab": {
          "base_uri": "https://localhost:8080/"
        }
      },
      "execution_count": null,
      "outputs": [
        {
          "output_type": "execute_result",
          "data": {
            "text/plain": [
              "array(['G'], dtype=object)"
            ]
          },
          "metadata": {},
          "execution_count": 54
        }
      ]
    }
  ],
  "metadata": {
    "colab": {
      "provenance": [],
      "include_colab_link": true
    },
    "kernelspec": {
      "display_name": "Python 3",
      "name": "python3"
    }
  },
  "nbformat": 4,
  "nbformat_minor": 0
}